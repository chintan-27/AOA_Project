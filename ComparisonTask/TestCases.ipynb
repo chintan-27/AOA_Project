{
 "cells": [
  {
   "cell_type": "code",
   "execution_count": 18,
   "id": "0cf2dc55",
   "metadata": {},
   "outputs": [],
   "source": [
    "import random\n",
    "\n",
    "def createCase(m, n, file):\n",
    "    testCase = [str(m) + \" \" + str(n)]\n",
    "    for _ in range(m):\n",
    "        l = []\n",
    "        for _t in range(n):\n",
    "            l.append(str(random.randint(1, 2000000)))\n",
    "        testCase.append(\" \".join(l))\n",
    "    with open(file, \"w\") as text_file:\n",
    "        text_file.write(\"\\n\".join(testCase))"
   ]
  },
  {
   "cell_type": "code",
   "execution_count": 19,
   "id": "554c9c62",
   "metadata": {},
   "outputs": [],
   "source": [
    "createCase(50, 5000, \"TestCaseN1.txt\")"
   ]
  },
  {
   "cell_type": "code",
   "execution_count": 20,
   "id": "ba9210d6",
   "metadata": {},
   "outputs": [],
   "source": [
    "createCase(50, 10000, \"TestCaseN2.txt\")"
   ]
  },
  {
   "cell_type": "code",
   "execution_count": 21,
   "id": "612de56e",
   "metadata": {},
   "outputs": [],
   "source": [
    "createCase(50, 15000, \"TestCaseN3.txt\")"
   ]
  },
  {
   "cell_type": "code",
   "execution_count": 22,
   "id": "5f38da7b",
   "metadata": {},
   "outputs": [],
   "source": [
    "createCase(50, 20000, \"TestCaseN4.txt\")"
   ]
  },
  {
   "cell_type": "code",
   "execution_count": 23,
   "id": "05021d7f",
   "metadata": {},
   "outputs": [],
   "source": [
    "createCase(50, 25000, \"TestCaseN5.txt\")"
   ]
  },
  {
   "cell_type": "code",
   "execution_count": 24,
   "id": "09c37e2d",
   "metadata": {},
   "outputs": [],
   "source": [
    "createCase(20, 20000, \"TestCaseM1.txt\")"
   ]
  },
  {
   "cell_type": "code",
   "execution_count": 25,
   "id": "f625db19",
   "metadata": {},
   "outputs": [],
   "source": [
    "createCase(40, 20000, \"TestCaseM2.txt\")"
   ]
  },
  {
   "cell_type": "code",
   "execution_count": 26,
   "id": "7162ea2d",
   "metadata": {},
   "outputs": [],
   "source": [
    "createCase(60, 20000, \"TestCaseM3.txt\")"
   ]
  },
  {
   "cell_type": "code",
   "execution_count": 27,
   "id": "33e3b0d2",
   "metadata": {},
   "outputs": [],
   "source": [
    "createCase(80, 20000, \"TestCaseM4.txt\")"
   ]
  },
  {
   "cell_type": "code",
   "execution_count": 28,
   "id": "1ce03c5b",
   "metadata": {},
   "outputs": [],
   "source": [
    "createCase(100, 20000, \"TestCaseM5.txt\")"
   ]
  },
  {
   "cell_type": "code",
   "execution_count": null,
   "id": "1bee9010",
   "metadata": {},
   "outputs": [],
   "source": []
  }
 ],
 "metadata": {
  "kernelspec": {
   "display_name": "Python 3 (ipykernel)",
   "language": "python",
   "name": "python3"
  },
  "language_info": {
   "codemirror_mode": {
    "name": "ipython",
    "version": 3
   },
   "file_extension": ".py",
   "mimetype": "text/x-python",
   "name": "python",
   "nbconvert_exporter": "python",
   "pygments_lexer": "ipython3",
   "version": "3.7.3"
  }
 },
 "nbformat": 4,
 "nbformat_minor": 5
}
