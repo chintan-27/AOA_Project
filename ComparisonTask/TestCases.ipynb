{
 "cells": [
  {
   "cell_type": "code",
   "execution_count": 15,
   "id": "0cf2dc55",
   "metadata": {},
   "outputs": [],
   "source": [
    "import random\n",
    "\n",
    "def createCase(m, n, file):\n",
    "    testCase = [str(m) + \" \" + str(n)]\n",
    "    for _ in range(m):\n",
    "        l = []\n",
    "        for _t in range(n):\n",
    "            l.append(str(random.randint(1, 10000)))\n",
    "        testCase.append(\" \".join(l))\n",
    "    with open(file, \"w\") as text_file:\n",
    "        text_file.write(\"\\n\".join(testCase))"
   ]
  },
  {
   "cell_type": "code",
   "execution_count": 16,
   "id": "554c9c62",
   "metadata": {},
   "outputs": [],
   "source": [
    "# PLOT 1, 2 Test Cases\n",
    "\n",
    "createCase(50, 1000, \"N1.txt\")\n",
    "createCase(50, 2000, \"N2.txt\")\n",
    "createCase(50, 3000, \"N3.txt\")\n",
    "createCase(50, 4000, \"N4.txt\")\n",
    "createCase(50, 5000, \"N5.txt\")\n",
    "\n",
    "createCase(20, 2000, \"M1.txt\")\n",
    "createCase(40, 2000, \"M2.txt\")\n",
    "createCase(60, 2000, \"M3.txt\")\n",
    "createCase(80, 2000, \"M4.txt\")\n",
    "createCase(100, 2000, \"M5.txt\")"
   ]
  },
  {
   "cell_type": "code",
   "execution_count": 28,
   "id": "1bee9010",
   "metadata": {},
   "outputs": [],
   "source": [
    "import random\n",
    "\n",
    "def createCase(m, n, k, file):\n",
    "    testCase = [str(k) + \" \" + str(m) + \" \" + str(n)]\n",
    "    for _ in range(m):\n",
    "        l = []\n",
    "        for _t in range(n):\n",
    "            l.append(str(random.randint(1, 10000)))\n",
    "        testCase.append(\" \".join(l))\n",
    "    with open(file, \"w\") as text_file:\n",
    "        text_file.write(\"\\n\".join(testCase))"
   ]
  },
  {
   "cell_type": "code",
   "execution_count": 43,
   "id": "5911329f",
   "metadata": {},
   "outputs": [],
   "source": [
    "# PLOT 3, 4, 5 Test Cases - Task 4\n",
    "\n",
    "createCase(5, 10, 2, \"N1.txt\")\n",
    "createCase(5, 15, 2, \"N2.txt\")\n",
    "createCase(5, 20, 2, \"N3.txt\")\n",
    "createCase(5, 25, 2, \"N4.txt\")\n",
    "createCase(5, 30, 2, \"N5.txt\")\n",
    "\n",
    "createCase(5, 10, 2, \"M1.txt\")\n",
    "createCase(10, 10, 2, \"M2.txt\")\n",
    "createCase(15, 10, 2, \"M3.txt\")\n",
    "createCase(20, 10, 2, \"M4.txt\")\n",
    "createCase(25, 10, 2, \"M5.txt\")\n",
    "\n",
    "createCase(5, 10, 1, \"K1.txt\")\n",
    "createCase(5, 10, 2, \"K2.txt\")\n",
    "createCase(5, 10, 3, \"K3.txt\")\n",
    "createCase(5, 10, 4, \"K4.txt\")\n",
    "createCase(5, 10, 5, \"K5.txt\")"
   ]
  },
  {
   "cell_type": "code",
   "execution_count": 54,
   "id": "ca7bf22e",
   "metadata": {},
   "outputs": [],
   "source": [
    "# PLOT 3, 4, 5 Test Cases - Task 5, 6A, 6B\n",
    "\n",
    "createCase(50, 500, 10, \"N1.txt\")\n",
    "createCase(50, 1000, 10, \"N2.txt\")\n",
    "createCase(50, 1500, 10, \"N3.txt\")\n",
    "createCase(50, 2000, 10, \"N4.txt\")\n",
    "createCase(50, 2500, 10, \"N5.txt\")\n",
    "\n",
    "createCase(20, 1500, 10, \"M1.txt\")\n",
    "createCase(40, 1500, 10, \"M2.txt\")\n",
    "createCase(60, 1500, 10, \"M3.txt\")\n",
    "createCase(80, 1500, 10, \"M4.txt\")\n",
    "createCase(100, 1500, 10, \"M5.txt\")\n",
    "\n",
    "createCase(50, 1500, 5, \"K1.txt\")\n",
    "createCase(50, 1500, 10, \"K2.txt\")\n",
    "createCase(50, 1500, 15, \"K3.txt\")\n",
    "createCase(50, 1500, 20, \"K4.txt\")\n",
    "createCase(50, 1500, 25, \"K5.txt\")"
   ]
  },
  {
   "cell_type": "code",
   "execution_count": 56,
   "id": "67207b1d",
   "metadata": {},
   "outputs": [],
   "source": [
    "# PLOT 6, 7 Test Cases - Task 7\n",
    "\n",
    "createCase(20, 5, 10, \"N1.txt\")\n",
    "createCase(20, 10, 10, \"N2.txt\")\n",
    "createCase(20, 15, 10, \"N3.txt\")\n",
    "createCase(20, 20, 10, \"N4.txt\")\n",
    "createCase(20, 25, 10, \"N5.txt\")\n",
    "\n",
    "createCase(20, 15, 10, \"M1.txt\")\n",
    "createCase(40, 15, 10, \"M2.txt\")\n",
    "createCase(60, 15, 10, \"M3.txt\")\n",
    "createCase(80, 15, 10, \"M4.txt\")\n",
    "createCase(100, 15, 10, \"M5.txt\")"
   ]
  },
  {
   "cell_type": "code",
   "execution_count": 57,
   "id": "905f55b8",
   "metadata": {},
   "outputs": [],
   "source": [
    "# PLOT 6, 7 Test Cases - Task 8, 9A, 9B\n",
    "\n",
    "createCase(50, 1000, 100, \"N1.txt\")\n",
    "createCase(50, 2000, 100, \"N2.txt\")\n",
    "createCase(50, 3000, 100, \"N3.txt\")\n",
    "createCase(50, 4000, 100, \"N4.txt\")\n",
    "createCase(50, 5000, 100, \"N5.txt\")\n",
    "\n",
    "createCase(20, 2000, 100, \"M1.txt\")\n",
    "createCase(40, 2000, 100, \"M2.txt\")\n",
    "createCase(60, 2000, 100, \"M3.txt\")\n",
    "createCase(80, 2000, 100, \"M4.txt\")\n",
    "createCase(100, 2000, 100, \"M5.txt\")"
   ]
  },
  {
   "cell_type": "code",
   "execution_count": null,
   "id": "1d47b283",
   "metadata": {},
   "outputs": [],
   "source": []
  }
 ],
 "metadata": {
  "kernelspec": {
   "display_name": "Python 3 (ipykernel)",
   "language": "python",
   "name": "python3"
  },
  "language_info": {
   "codemirror_mode": {
    "name": "ipython",
    "version": 3
   },
   "file_extension": ".py",
   "mimetype": "text/x-python",
   "name": "python",
   "nbconvert_exporter": "python",
   "pygments_lexer": "ipython3",
   "version": "3.7.3"
  }
 },
 "nbformat": 4,
 "nbformat_minor": 5
}
