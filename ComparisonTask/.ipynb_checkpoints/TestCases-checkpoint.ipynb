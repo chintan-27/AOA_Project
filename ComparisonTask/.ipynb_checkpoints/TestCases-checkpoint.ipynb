{
 "cells": [
  {
   "cell_type": "code",
   "execution_count": 15,
   "id": "0cf2dc55",
   "metadata": {},
   "outputs": [],
   "source": [
    "import random\n",
    "\n",
    "def createCase(m, n, file):\n",
    "    testCase = [str(m) + \" \" + str(n)]\n",
    "    for _ in range(m):\n",
    "        l = []\n",
    "        for _t in range(n):\n",
    "            l.append(str(random.randint(1, 10000)))\n",
    "        testCase.append(\" \".join(l))\n",
    "    with open(file, \"w\") as text_file:\n",
    "        text_file.write(\"\\n\".join(testCase))"
   ]
  },
  {
   "cell_type": "code",
   "execution_count": 16,
   "id": "554c9c62",
   "metadata": {},
   "outputs": [],
   "source": [
    "# PLOT 1, 2 Test Cases\n",
    "\n",
    "createCase(50, 1000, \"TestCaseN1.txt\")\n",
    "createCase(50, 2000, \"TestCaseN2.txt\")\n",
    "createCase(50, 3000, \"TestCaseN3.txt\")\n",
    "createCase(50, 4000, \"TestCaseN4.txt\")\n",
    "createCase(50, 5000, \"TestCaseN5.txt\")\n",
    "\n",
    "createCase(20, 2000, \"TestCaseM1.txt\")\n",
    "createCase(40, 2000, \"TestCaseM2.txt\")\n",
    "createCase(60, 2000, \"TestCaseM3.txt\")\n",
    "createCase(80, 2000, \"TestCaseM4.txt\")\n",
    "createCase(100, 2000, \"TestCaseM5.txt\")"
   ]
  },
  {
   "cell_type": "code",
   "execution_count": 28,
   "id": "1bee9010",
   "metadata": {},
   "outputs": [],
   "source": [
    "import random\n",
    "\n",
    "def createCase(m, n, k, file):\n",
    "    testCase = [str(k) + \" \" + str(m) + \" \" + str(n)]\n",
    "    for _ in range(m):\n",
    "        l = []\n",
    "        for _t in range(n):\n",
    "            l.append(str(random.randint(1, 10000)))\n",
    "        testCase.append(\" \".join(l))\n",
    "    with open(file, \"w\") as text_file:\n",
    "        text_file.write(\"\\n\".join(testCase))"
   ]
  },
  {
   "cell_type": "code",
   "execution_count": 35,
   "id": "8a27849d",
   "metadata": {},
   "outputs": [],
   "source": [
    "# PLOT 3 Test Cases\n",
    "\n",
    "createCase(5, 10, 2, \"N11.txt\")\n",
    "createCase(5, 20, 2, \"N22.txt\")\n",
    "createCase(5, 30, 2, \"N33.txt\")\n",
    "createCase(5, 40, 2, \"N44.txt\")\n",
    "createCase(5, 50, 2, \"N55.txt\")\n",
    "\n",
    "createCase(5, 25, 3, \"M11.txt\")\n",
    "createCase(10, 25, 3, \"M22.txt\")\n",
    "createCase(15, 25, 3, \"M33.txt\")\n",
    "createCase(20, 25, 3, \"M44.txt\")\n",
    "createCase(25, 25, 3, \"M55.txt\")\n",
    "\n",
    "createCase(5, 25, 1, \"K11.txt\")\n",
    "createCase(5, 25, 2, \"K22.txt\")\n",
    "createCase(5, 25, 3, \"K33.txt\")\n",
    "createCase(5, 25, 4, \"K44.txt\")\n",
    "createCase(5, 25, 5, \"K55.txt\")"
   ]
  },
  {
   "cell_type": "code",
   "execution_count": null,
   "id": "0735c020",
   "metadata": {},
   "outputs": [],
   "source": []
  }
 ],
 "metadata": {
  "kernelspec": {
   "display_name": "Python 3 (ipykernel)",
   "language": "python",
   "name": "python3"
  },
  "language_info": {
   "codemirror_mode": {
    "name": "ipython",
    "version": 3
   },
   "file_extension": ".py",
   "mimetype": "text/x-python",
   "name": "python",
   "nbconvert_exporter": "python",
   "pygments_lexer": "ipython3",
   "version": "3.7.3"
  }
 },
 "nbformat": 4,
 "nbformat_minor": 5
}
